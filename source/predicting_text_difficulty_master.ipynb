{
 "cells": [
  {
   "cell_type": "code",
   "execution_count": 297,
   "id": "destroyed-academy",
   "metadata": {},
   "outputs": [],
   "source": [
    "#import dependencies\n",
    "import pandas as pd\n",
    "import numpy as np\n",
    "import matplotlib.pyplot as plt\n",
    "import nltk\n",
    "#nltk.download('stopwords')\n",
    "#from nltk.corpus import stopwords\n",
    "from sklearn.model_selection import train_test_split, GridSearchCV\n",
    "from sklearn.feature_extraction.text import TfidfVectorizer, CountVectorizer\n",
    "from sklearn.metrics import accuracy_score, silhouette_score\n",
    "from sklearn.dummy import DummyClassifier\n",
    "from sklearn.linear_model import LogisticRegression\n",
    "from sklearn.naive_bayes import MultinomialNB\n",
    "from sklearn.ensemble import RandomForestClassifier\n",
    "from sklearn.decomposition import LatentDirichletAllocation, NMF\n",
    "from sklearn.cluster import KMeans\n",
    "from collections import Counter\n",
    "from scipy.sparse import hstack, csr_matrix"
   ]
  },
  {
   "cell_type": "code",
   "execution_count": 2,
   "id": "banner-threat",
   "metadata": {},
   "outputs": [],
   "source": [
    "#define utility functions\n",
    "\n",
    "#calculates the proportion of sentence words present in a given vocabulary\n",
    "def vocab_percentage(vocab_counter, s):\n",
    "    split = s.split()\n",
    "    counter = Counter(split)\n",
    "    both = counter & vocab_counter\n",
    "    counts = 0\n",
    "    for word in both.keys():\n",
    "        counts += counter[word]\n",
    "    return counts/len(split)\n",
    "\n",
    "#calculates the AoA sum of sentence words\n",
    "def AoA_sum(AoA_counter, s):\n",
    "    split = s.split()\n",
    "    counter = Counter(split)\n",
    "    both = counter & AoA_counter\n",
    "    AoA_sum = 0\n",
    "    for word in both.keys():\n",
    "        try:\n",
    "            AoA_sum += AoA_word_dict[word]\n",
    "        except:\n",
    "            continue\n",
    "    return AoA_sum\n",
    "\n",
    "#split data and create text vectors\n",
    "def split_vectorize(feature_list = ['original_text'], regex_pattern = r'\\w{1,}', stop_words='english',\n",
    "                   vocabulary = None):\n",
    "    #75-25 train test split\n",
    "    train_X, test_X, train_y, test_y = train_test_split(df[feature_list],df[\"label\"], random_state = 0)\n",
    "    \n",
    "    #vectorize by count (only text vectors)\n",
    "    count_vect = CountVectorizer(analyzer='word', token_pattern=regex_pattern, stop_words=stop_words, \\\n",
    "                                 vocabulary = vocabulary)\n",
    "    count_vect.fit(train_X['original_text'])\n",
    "    xtrain_count =  count_vect.transform(train_X['original_text'])\n",
    "    xtest_count =  count_vect.transform(test_X['original_text'])\n",
    "    #test = \"\"\"\n",
    "    #vectorize by tf-idf (only text vectors)\n",
    "    tfidf_vect = TfidfVectorizer(analyzer='word', token_pattern=regex_pattern, stop_words=stop_words, \\\n",
    "                                 vocabulary = vocabulary)\n",
    "    tfidf_vect.fit(train_X['original_text'])\n",
    "    xtrain_tfidf =  tfidf_vect.transform(train_X['original_text'])\n",
    "    xtest_tfidf =  tfidf_vect.transform(test_X['original_text'])\n",
    "    \n",
    "    #vectorize by tf-idf 2-grams and 3-grams (word level, only text vectors)\n",
    "    tfidf_vect_ngram = TfidfVectorizer(analyzer='word', token_pattern=regex_pattern, ngram_range=(2,3), \\\n",
    "                                       stop_words=stop_words, vocabulary = vocabulary)\n",
    "    tfidf_vect_ngram.fit(train_X['original_text'])\n",
    "    xtrain_tfidf_ngram =  tfidf_vect_ngram.transform(train_X['original_text'])\n",
    "    xtest_tfidf_ngram =  tfidf_vect_ngram.transform(test_X['original_text'])\n",
    "\n",
    "    #vectorize by tf-idf 2-grams and 3-grams (character level, only text vectors)\n",
    "    tfidf_vect_ngram_chars = TfidfVectorizer(analyzer='char', ngram_range=(2,3))                                     \n",
    "    tfidf_vect_ngram_chars.fit(train_X['original_text'])\n",
    "    xtrain_tfidf_ngram_chars =  tfidf_vect_ngram_chars.transform(train_X['original_text']) \n",
    "    xtest_tfidf_ngram_chars =  tfidf_vect_ngram_chars.transform(test_X['original_text'])#\"\"\"\n",
    "    \n",
    "    return train_X, test_X, train_y, test_y, xtrain_count, xtest_count, xtrain_tfidf, xtest_tfidf, \\\n",
    "    xtrain_tfidf_ngram, xtest_tfidf_ngram, xtrain_tfidf_ngram_chars, xtest_tfidf_ngram_chars\n",
    "\n",
    "#fits, predicts, and computes the accuracy score for our selected models\n",
    "def fit_predict_score():\n",
    "    \n",
    "    uniform = DummyClassifier(strategy = 'uniform', random_state = 0).fit(xtrain_count, train_y)\n",
    "    rand_dev_preds = uniform.predict(xtest_count)\n",
    "    print('Random dummy accuracy:', accuracy_score(rand_dev_preds, test_y))\n",
    "\n",
    "    most_frequent = DummyClassifier(strategy = 'most_frequent', random_state = 0).fit(xtrain_count, train_y)\n",
    "    mf_dev_preds = most_frequent.predict(xtest_count)\n",
    "    print('Most frequent dummy accuracy:',accuracy_score(mf_dev_preds, test_y), '\\n')\n",
    "\n",
    "    clf = LogisticRegression(random_state = 0, max_iter = 500, n_jobs = -1).fit(xtrain_count, train_y)\n",
    "    lr_preds = clf.predict(xtest_count)\n",
    "    print('LogisticRegression count accuracy:',accuracy_score(lr_preds, test_y))\n",
    "\n",
    "    clf = LogisticRegression(random_state = 0, max_iter = 500, n_jobs = -1).fit(xtrain_tfidf, train_y)\n",
    "    lr_preds = clf.predict(xtest_tfidf)\n",
    "    print('LogisticRegression TF-IDF accuracy:',accuracy_score(lr_preds, test_y))\n",
    "\n",
    "    clf = LogisticRegression(random_state = 0, max_iter = 500, n_jobs = -1).fit(xtrain_tfidf_ngram, train_y)\n",
    "    lr_preds = clf.predict(xtest_tfidf_ngram)\n",
    "    print('LogisticRegression TF-IDF n-gram accuracy:',accuracy_score(lr_preds, test_y))\n",
    "\n",
    "    clf = LogisticRegression(random_state = 0, max_iter = 500, n_jobs = -1).fit(xtrain_tfidf_ngram_chars, train_y)\n",
    "    lr_preds = clf.predict(xtest_tfidf_ngram_chars)\n",
    "    print('LogisticRegression TF-IDF n-gram characters accuracy:',accuracy_score(lr_preds, test_y), '\\n')\n",
    "\n",
    "    multi_nb_count = MultinomialNB()\n",
    "    multi_nb_count.fit(xtrain_count,train_y)\n",
    "    prediction = multi_nb_count.predict(xtest_count)\n",
    "    print('MultinomialNB count accuracy:',accuracy_score(prediction, test_y))\n",
    "\n",
    "    multi_nb_tfidf = MultinomialNB()\n",
    "    multi_nb_tfidf.fit(xtrain_tfidf,train_y)\n",
    "    prediction = multi_nb_tfidf.predict(xtest_tfidf)\n",
    "    print('MultinomialNB TF-IDF accuracy:',accuracy_score(prediction, test_y))\n",
    "\n",
    "    multi_nb_tfidf_ngram = MultinomialNB()\n",
    "    multi_nb_tfidf_ngram.fit(xtrain_tfidf_ngram,train_y)\n",
    "    prediction = multi_nb_tfidf_ngram.predict(xtest_tfidf_ngram)\n",
    "    print('MultinomialNB TF-IDF n-gram accuracy:',accuracy_score(prediction, test_y))\n",
    "\n",
    "    multi_nb_tfidf_ngram_chars = MultinomialNB()\n",
    "    multi_nb_tfidf_ngram_chars.fit(xtrain_tfidf_ngram_chars,train_y)\n",
    "    prediction = multi_nb_tfidf_ngram_chars.predict(xtest_tfidf_ngram_chars)\n",
    "    print('MultinomialNB TF-IDF n-gram characters accuracy:',accuracy_score(prediction, test_y), '\\n')\n",
    "\n",
    "    rf_clf_count = RandomForestClassifier(n_estimators = 50, max_depth = 15, random_state = 0, n_jobs = -1).fit(xtrain_count, train_y)\n",
    "    rf_count_preds = rf_clf_count.predict(xtest_count)\n",
    "    print('RandomForest count accuracy:',accuracy_score(rf_count_preds, test_y))\n",
    "    \n",
    "    rf_clf_tfidf = RandomForestClassifier(n_estimators = 50, max_depth = 15, random_state = 0, n_jobs = -1).fit(xtrain_tfidf, train_y)\n",
    "    rf_tfidf_preds = rf_clf_tfidf.predict(xtest_tfidf)\n",
    "    print('RandomForest TF-IDF accuracy:',accuracy_score(rf_tfidf_preds, test_y))\n",
    "    \n",
    "    rf_clf_tfidf_ngram = RandomForestClassifier(n_estimators = 50, max_depth = 15, random_state = 0, n_jobs = -1).fit(xtrain_tfidf_ngram, train_y)\n",
    "    rf_tfidf_ngram_preds = rf_clf_tfidf_ngram.predict(xtest_tfidf_ngram)\n",
    "    print('RandomForest TF-IDF n-gram accuracy:',accuracy_score(rf_tfidf_ngram_preds, test_y))\n",
    "    \n",
    "    rf_clf_tfidf_ngram_chars = RandomForestClassifier(n_estimators = 50, max_depth = 15, random_state = 0, n_jobs = -1).fit(xtrain_tfidf_ngram_chars, train_y)\n",
    "    rf_tfidf_ngram_chars_preds = rf_clf_tfidf_ngram_chars.predict(xtest_tfidf_ngram_chars)\n",
    "    print('RandomForest TF-IDF n-gram characters accuracy:',accuracy_score(rf_tfidf_ngram_chars_preds, test_y))\n",
    "\n",
    "#adds feature to text vectors\n",
    "def add_feature_to_matrix(feature):\n",
    "    \n",
    "    global xtrain_count, xtest_count, xtrain_tfidf, xtest_tfidf, xtrain_tfidf_ngram, xtest_tfidf_ngram, \\\n",
    "    xtrain_tfidf_ngram_chars, xtest_tfidf_ngram_chars\n",
    "    \n",
    "    xtrain_count = csr_matrix(hstack([xtrain_count, csr_matrix(train_X[feature]).T]))\n",
    "    xtest_count = csr_matrix(hstack([xtest_count, csr_matrix(test_X[feature]).T]))\n",
    "\n",
    "    xtrain_tfidf = csr_matrix(hstack([xtrain_tfidf, csr_matrix(train_X[feature]).T]))\n",
    "    xtest_tfidf = csr_matrix(hstack([xtest_tfidf, csr_matrix(test_X[feature]).T]))\n",
    "\n",
    "    xtrain_tfidf_ngram = csr_matrix(hstack([xtrain_tfidf_ngram, csr_matrix(train_X[feature]).T]))\n",
    "    xtest_tfidf_ngram = csr_matrix(hstack([xtest_tfidf_ngram, csr_matrix(test_X[feature]).T]))\n",
    "\n",
    "    xtrain_tfidf_ngram_chars = csr_matrix(hstack([xtrain_tfidf_ngram_chars, csr_matrix(train_X[feature]).T]))\n",
    "    xtest_tfidf_ngram_chars = csr_matrix(hstack([xtest_tfidf_ngram_chars, csr_matrix(test_X[feature]).T]))"
   ]
  },
  {
   "cell_type": "code",
   "execution_count": 3,
   "id": "maritime-doctor",
   "metadata": {},
   "outputs": [],
   "source": [
    "#read in necessary data\n",
    "df = pd.read_csv(\"WikiLarge_Train.csv\")\n",
    "AoA = pd.read_csv('AoA_51715_words.csv', encoding = 'unicode_escape')\n",
    "\n",
    "file = open('dale_chall.txt', 'r')\n",
    "dc_vocab = []\n",
    "for line in file:\n",
    "    dc_vocab.append(line.strip())"
   ]
  },
  {
   "cell_type": "code",
   "execution_count": 4,
   "id": "temporal-chinese",
   "metadata": {},
   "outputs": [],
   "source": [
    "#intial preprocessing\n",
    "\n",
    "#proportion of sentence words in Dale Chall 3000 Word List\n",
    "dc_counter = Counter(dc_vocab)\n",
    "result = [vocab_percentage(dc_counter, s) for s in df['original_text']]\n",
    "df['dc_proportion'] = result\n",
    "\n",
    "#proportion of sentence words in AoA_51715_words\n",
    "AoA_vocab = AoA['Word'].unique()\n",
    "AoA_counter = Counter(AoA_vocab)\n",
    "result = [vocab_percentage(AoA_counter, s) for s in df['original_text']]\n",
    "df['AoA_proportion'] = result\n",
    "\n",
    "#AoA sum of sentence words\n",
    "AoA_word_dict = dict(zip(AoA.Word, AoA.AoA_Kup_lem))\n",
    "AoA_counter = Counter(AoA_vocab)\n",
    "result = [AoA_sum(AoA_counter, s) for s in df['original_text']]\n",
    "df['AoA_sum'] = result\n",
    "df['AoA_sum'] = df['AoA_sum'].fillna(0) #there are 7 records which have NaN for this field, not sure why"
   ]
  },
  {
   "cell_type": "code",
   "execution_count": 5,
   "id": "tracked-professional",
   "metadata": {},
   "outputs": [
    {
     "data": {
      "text/html": [
       "<div>\n",
       "<style scoped>\n",
       "    .dataframe tbody tr th:only-of-type {\n",
       "        vertical-align: middle;\n",
       "    }\n",
       "\n",
       "    .dataframe tbody tr th {\n",
       "        vertical-align: top;\n",
       "    }\n",
       "\n",
       "    .dataframe thead th {\n",
       "        text-align: right;\n",
       "    }\n",
       "</style>\n",
       "<table border=\"1\" class=\"dataframe\">\n",
       "  <thead>\n",
       "    <tr style=\"text-align: right;\">\n",
       "      <th></th>\n",
       "      <th>original_text</th>\n",
       "      <th>label</th>\n",
       "      <th>dc_proportion</th>\n",
       "      <th>AoA_proportion</th>\n",
       "      <th>AoA_sum</th>\n",
       "    </tr>\n",
       "  </thead>\n",
       "  <tbody>\n",
       "    <tr>\n",
       "      <th>104760</th>\n",
       "      <td>In modern mineralogy the term natron has come ...</td>\n",
       "      <td>1</td>\n",
       "      <td>0.551724</td>\n",
       "      <td>0.793103</td>\n",
       "      <td>135.83</td>\n",
       "    </tr>\n",
       "    <tr>\n",
       "      <th>297469</th>\n",
       "      <td>The 2006 â '' 07 Chicago Blackhawks season was...</td>\n",
       "      <td>0</td>\n",
       "      <td>0.304348</td>\n",
       "      <td>0.304348</td>\n",
       "      <td>24.83</td>\n",
       "    </tr>\n",
       "    <tr>\n",
       "      <th>402527</th>\n",
       "      <td>Mechanical bulls have been around for decades ...</td>\n",
       "      <td>0</td>\n",
       "      <td>0.580645</td>\n",
       "      <td>0.903226</td>\n",
       "      <td>148.12</td>\n",
       "    </tr>\n",
       "    <tr>\n",
       "      <th>410135</th>\n",
       "      <td>Kennedy , George A. 1980 .</td>\n",
       "      <td>0</td>\n",
       "      <td>0.000000</td>\n",
       "      <td>0.000000</td>\n",
       "      <td>0.00</td>\n",
       "    </tr>\n",
       "    <tr>\n",
       "      <th>387336</th>\n",
       "      <td>The state capital is Tuxtla Gutiérrez . Other ...</td>\n",
       "      <td>0</td>\n",
       "      <td>0.240000</td>\n",
       "      <td>0.360000</td>\n",
       "      <td>46.00</td>\n",
       "    </tr>\n",
       "  </tbody>\n",
       "</table>\n",
       "</div>"
      ],
      "text/plain": [
       "                                            original_text  label  \\\n",
       "104760  In modern mineralogy the term natron has come ...      1   \n",
       "297469  The 2006 â '' 07 Chicago Blackhawks season was...      0   \n",
       "402527  Mechanical bulls have been around for decades ...      0   \n",
       "410135                         Kennedy , George A. 1980 .      0   \n",
       "387336  The state capital is Tuxtla Gutiérrez . Other ...      0   \n",
       "\n",
       "        dc_proportion  AoA_proportion  AoA_sum  \n",
       "104760       0.551724        0.793103   135.83  \n",
       "297469       0.304348        0.304348    24.83  \n",
       "402527       0.580645        0.903226   148.12  \n",
       "410135       0.000000        0.000000     0.00  \n",
       "387336       0.240000        0.360000    46.00  "
      ]
     },
     "execution_count": 5,
     "metadata": {},
     "output_type": "execute_result"
    }
   ],
   "source": [
    "#let's see what we have\n",
    "df.sample(5)"
   ]
  },
  {
   "cell_type": "code",
   "execution_count": 6,
   "id": "romantic-anaheim",
   "metadata": {},
   "outputs": [
    {
     "data": {
      "text/plain": [
       "0    208384\n",
       "1    208384\n",
       "Name: label, dtype: int64"
      ]
     },
     "execution_count": 6,
     "metadata": {},
     "output_type": "execute_result"
    }
   ],
   "source": [
    "#check class balance\n",
    "df['label'].value_counts()"
   ]
  },
  {
   "cell_type": "markdown",
   "id": "standing-zoning",
   "metadata": {},
   "source": [
    "# Tokenize on word characters, remove stop words"
   ]
  },
  {
   "cell_type": "code",
   "execution_count": 7,
   "id": "packed-geometry",
   "metadata": {},
   "outputs": [],
   "source": [
    "train_X, test_X, train_y, test_y, xtrain_count, xtest_count, xtrain_tfidf, xtest_tfidf, xtrain_tfidf_ngram, \\\n",
    "xtest_tfidf_ngram, xtrain_tfidf_ngram_chars, xtest_tfidf_ngram_chars = split_vectorize()"
   ]
  },
  {
   "cell_type": "code",
   "execution_count": 8,
   "id": "asian-science",
   "metadata": {},
   "outputs": [
    {
     "name": "stdout",
     "output_type": "stream",
     "text": [
      "Random dummy accuracy: 0.4988770730958231\n",
      "Most frequent dummy accuracy: 0.4982532248157248 \n",
      "\n",
      "LogisticRegression count accuracy: 0.6581407401719902\n",
      "LogisticRegression TF-IDF accuracy: 0.6628723894348895\n",
      "LogisticRegression TF-IDF n-gram accuracy: 0.5452721898034398\n",
      "LogisticRegression TF-IDF n-gram characters accuracy: 0.7064745853808354 \n",
      "\n",
      "MultinomialNB count accuracy: 0.5757159858722358\n",
      "MultinomialNB TF-IDF accuracy: 0.5769828777641277\n",
      "MultinomialNB TF-IDF n-gram accuracy: 0.5105574324324325\n",
      "MultinomialNB TF-IDF n-gram characters accuracy: 0.6310561271498771 \n",
      "\n",
      "RandomForest count accuracy: 0.6214296683046683\n",
      "RandomForest TF-IDF accuracy: 0.6262189035626535\n",
      "RandomForest TF-IDF n-gram accuracy: 0.5389281326781327\n",
      "RandomForest TF-IDF n-gram characters accuracy: 0.6858204084766585\n"
     ]
    }
   ],
   "source": [
    "fit_predict_score()"
   ]
  },
  {
   "cell_type": "markdown",
   "id": "aging-therapy",
   "metadata": {},
   "source": [
    "# Tokenize on whitespace, remove stop words"
   ]
  },
  {
   "cell_type": "code",
   "execution_count": 9,
   "id": "cleared-typing",
   "metadata": {},
   "outputs": [
    {
     "name": "stderr",
     "output_type": "stream",
     "text": [
      "/sw/arcts/centos7/python3.8-anaconda/2021.05/lib/python3.8/site-packages/sklearn/feature_extraction/text.py:388: UserWarning: Your stop_words may be inconsistent with your preprocessing. Tokenizing the stop words generated tokens [''] not in stop_words.\n",
      "  warnings.warn('Your stop_words may be inconsistent with '\n"
     ]
    }
   ],
   "source": [
    "train_X, test_X, train_y, test_y, xtrain_count, xtest_count, xtrain_tfidf, xtest_tfidf, xtrain_tfidf_ngram, \\\n",
    "xtest_tfidf_ngram, xtrain_tfidf_ngram_chars, xtest_tfidf_ngram_chars = split_vectorize(regex_pattern = r'\\S*')"
   ]
  },
  {
   "cell_type": "code",
   "execution_count": 10,
   "id": "characteristic-quality",
   "metadata": {},
   "outputs": [
    {
     "name": "stdout",
     "output_type": "stream",
     "text": [
      "Random dummy accuracy: 0.4988770730958231\n",
      "Most frequent dummy accuracy: 0.4982532248157248 \n",
      "\n",
      "LogisticRegression count accuracy: 0.6793227886977887\n",
      "LogisticRegression TF-IDF accuracy: 0.6861563267813268\n",
      "LogisticRegression TF-IDF n-gram accuracy: 0.7055724047911548\n",
      "LogisticRegression TF-IDF n-gram characters accuracy: 0.7064745853808354 \n",
      "\n",
      "MultinomialNB count accuracy: 0.594700168918919\n",
      "MultinomialNB TF-IDF accuracy: 0.5915809275184275\n",
      "MultinomialNB TF-IDF n-gram accuracy: 0.620690648034398\n",
      "MultinomialNB TF-IDF n-gram characters accuracy: 0.6310561271498771 \n",
      "\n",
      "RandomForest count accuracy: 0.6443680896805897\n",
      "RandomForest TF-IDF accuracy: 0.6555493703931204\n",
      "RandomForest TF-IDF n-gram accuracy: 0.6688421375921376\n",
      "RandomForest TF-IDF n-gram characters accuracy: 0.6858204084766585\n"
     ]
    }
   ],
   "source": [
    "fit_predict_score()"
   ]
  },
  {
   "cell_type": "markdown",
   "id": "opened-majority",
   "metadata": {},
   "source": [
    "# Tokenize on word characters, keep stop words"
   ]
  },
  {
   "cell_type": "code",
   "execution_count": 11,
   "id": "grand-fisher",
   "metadata": {},
   "outputs": [],
   "source": [
    "train_X, test_X, train_y, test_y, xtrain_count, xtest_count, xtrain_tfidf, xtest_tfidf, xtrain_tfidf_ngram, \\\n",
    "xtest_tfidf_ngram, xtrain_tfidf_ngram_chars, xtest_tfidf_ngram_chars = split_vectorize(stop_words = None)"
   ]
  },
  {
   "cell_type": "code",
   "execution_count": 12,
   "id": "major-patient",
   "metadata": {},
   "outputs": [
    {
     "name": "stdout",
     "output_type": "stream",
     "text": [
      "Random dummy accuracy: 0.4988770730958231\n",
      "Most frequent dummy accuracy: 0.4982532248157248 \n",
      "\n",
      "LogisticRegression count accuracy: 0.6743224047911548\n",
      "LogisticRegression TF-IDF accuracy: 0.6853213298525799\n",
      "LogisticRegression TF-IDF n-gram accuracy: 0.6590045300982801\n",
      "LogisticRegression TF-IDF n-gram characters accuracy: 0.7064745853808354 \n",
      "\n",
      "MultinomialNB count accuracy: 0.5947961455773956\n",
      "MultinomialNB TF-IDF accuracy: 0.5950744778869779\n",
      "MultinomialNB TF-IDF n-gram accuracy: 0.5754376535626535\n",
      "MultinomialNB TF-IDF n-gram characters accuracy: 0.6310561271498771 \n",
      "\n",
      "RandomForest count accuracy: 0.6400011517199017\n",
      "RandomForest TF-IDF accuracy: 0.6480439957002457\n",
      "RandomForest TF-IDF n-gram accuracy: 0.6019464066339066\n",
      "RandomForest TF-IDF n-gram characters accuracy: 0.6858204084766585\n"
     ]
    }
   ],
   "source": [
    "fit_predict_score()"
   ]
  },
  {
   "cell_type": "markdown",
   "id": "modified-executive",
   "metadata": {},
   "source": [
    "# Tokenize on whitespace, keep stop words"
   ]
  },
  {
   "cell_type": "code",
   "execution_count": 13,
   "id": "identical-township",
   "metadata": {},
   "outputs": [],
   "source": [
    "train_X, test_X, train_y, test_y, xtrain_count, xtest_count, xtrain_tfidf, xtest_tfidf, xtrain_tfidf_ngram, \\\n",
    "xtest_tfidf_ngram, xtrain_tfidf_ngram_chars, xtest_tfidf_ngram_chars \\\n",
    "= split_vectorize(regex_pattern = r'\\S*', stop_words = None)"
   ]
  },
  {
   "cell_type": "code",
   "execution_count": 14,
   "id": "moving-gibraltar",
   "metadata": {},
   "outputs": [
    {
     "name": "stdout",
     "output_type": "stream",
     "text": [
      "Random dummy accuracy: 0.4988770730958231\n",
      "Most frequent dummy accuracy: 0.4982532248157248 \n",
      "\n",
      "LogisticRegression count accuracy: 0.6912430896805897\n",
      "LogisticRegression TF-IDF accuracy: 0.702923449017199\n",
      "LogisticRegression TF-IDF n-gram accuracy: 0.7182989097051597\n",
      "LogisticRegression TF-IDF n-gram characters accuracy: 0.7064745853808354 \n",
      "\n",
      "MultinomialNB count accuracy: 0.6096149416461917\n",
      "MultinomialNB TF-IDF accuracy: 0.6089623003685504\n",
      "MultinomialNB TF-IDF n-gram accuracy: 0.6354710534398035\n",
      "MultinomialNB TF-IDF n-gram characters accuracy: 0.6310561271498771 \n",
      "\n",
      "RandomForest count accuracy: 0.6505681818181818\n",
      "RandomForest TF-IDF accuracy: 0.657228961916462\n",
      "RandomForest TF-IDF n-gram accuracy: 0.6626132524570024\n",
      "RandomForest TF-IDF n-gram characters accuracy: 0.6858204084766585\n"
     ]
    }
   ],
   "source": [
    "fit_predict_score()"
   ]
  },
  {
   "cell_type": "markdown",
   "id": "assigned-payment",
   "metadata": {},
   "source": [
    "# Tokenize on whitespace, vocabulary built on Dale Chall 3000 Word List"
   ]
  },
  {
   "cell_type": "code",
   "execution_count": 15,
   "id": "useful-command",
   "metadata": {},
   "outputs": [],
   "source": [
    "train_X, test_X, train_y, test_y, xtrain_count, xtest_count, xtrain_tfidf, xtest_tfidf, xtrain_tfidf_ngram, \\\n",
    "xtest_tfidf_ngram, xtrain_tfidf_ngram_chars, xtest_tfidf_ngram_chars \\\n",
    "= split_vectorize(regex_pattern = r'\\S*', stop_words = None, vocabulary = set(dc_vocab))"
   ]
  },
  {
   "cell_type": "code",
   "execution_count": 16,
   "id": "vertical-identifier",
   "metadata": {},
   "outputs": [
    {
     "name": "stdout",
     "output_type": "stream",
     "text": [
      "Random dummy accuracy: 0.4988770730958231\n",
      "Most frequent dummy accuracy: 0.4982532248157248 \n",
      "\n",
      "LogisticRegression count accuracy: 0.6511728347665847\n",
      "LogisticRegression TF-IDF accuracy: 0.6512496160933661\n",
      "LogisticRegression TF-IDF n-gram accuracy: 0.4982532248157248\n",
      "LogisticRegression TF-IDF n-gram characters accuracy: 0.7064745853808354 \n",
      "\n",
      "MultinomialNB count accuracy: 0.6187615171990172\n",
      "MultinomialNB TF-IDF accuracy: 0.6200476044226044\n",
      "MultinomialNB TF-IDF n-gram accuracy: 0.4982532248157248\n",
      "MultinomialNB TF-IDF n-gram characters accuracy: 0.6310561271498771 \n",
      "\n",
      "RandomForest count accuracy: 0.6377457002457002\n",
      "RandomForest TF-IDF accuracy: 0.6379568488943489\n",
      "RandomForest TF-IDF n-gram accuracy: 0.4982532248157248\n",
      "RandomForest TF-IDF n-gram characters accuracy: 0.6858204084766585\n"
     ]
    }
   ],
   "source": [
    "fit_predict_score()"
   ]
  },
  {
   "cell_type": "markdown",
   "id": "present-teaching",
   "metadata": {},
   "source": [
    "# Adding non-text features\n",
    "As tokenizing on whitespace and keeping stopwords appears to produce the highest accuracy scores for the logistic regression and random forest models, we will settle on this representation of the text.\n",
    "\n",
    "We will now begin incorporating non-text features into the feature space."
   ]
  },
  {
   "cell_type": "code",
   "execution_count": 17,
   "id": "brilliant-rochester",
   "metadata": {},
   "outputs": [],
   "source": [
    "#adding proportion of sentence words in Dale Chall 3000 Word List to feature space\n",
    "train_X, test_X, train_y, test_y, xtrain_count, xtest_count, xtrain_tfidf, xtest_tfidf, xtrain_tfidf_ngram, \\\n",
    "xtest_tfidf_ngram, xtrain_tfidf_ngram_chars, xtest_tfidf_ngram_chars \\\n",
    "= split_vectorize([\"original_text\", 'dc_proportion'], regex_pattern = r'\\S*', stop_words = None)\n",
    "\n",
    "feature_list = ['dc_proportion']\n",
    "\n",
    "for feature in feature_list:\n",
    "    add_feature_to_matrix(feature)"
   ]
  },
  {
   "cell_type": "code",
   "execution_count": 18,
   "id": "apart-honey",
   "metadata": {},
   "outputs": [
    {
     "name": "stdout",
     "output_type": "stream",
     "text": [
      "Random dummy accuracy: 0.4988770730958231\n",
      "Most frequent dummy accuracy: 0.4982532248157248 \n",
      "\n",
      "LogisticRegression count accuracy: 0.6941703777641277\n",
      "LogisticRegression TF-IDF accuracy: 0.7028274723587223\n",
      "LogisticRegression TF-IDF n-gram accuracy: 0.7176846590909091\n",
      "LogisticRegression TF-IDF n-gram characters accuracy: 0.7062634367321867 \n",
      "\n",
      "MultinomialNB count accuracy: 0.6113905098280098\n",
      "MultinomialNB TF-IDF accuracy: 0.6094709766584766\n",
      "MultinomialNB TF-IDF n-gram accuracy: 0.6361908783783784\n",
      "MultinomialNB TF-IDF n-gram characters accuracy: 0.6317567567567568 \n",
      "\n",
      "RandomForest count accuracy: 0.6532747235872236\n",
      "RandomForest TF-IDF accuracy: 0.6657804821867321\n",
      "RandomForest TF-IDF n-gram accuracy: 0.6645903716216216\n",
      "RandomForest TF-IDF n-gram characters accuracy: 0.6865594287469288\n"
     ]
    }
   ],
   "source": [
    "fit_predict_score()"
   ]
  },
  {
   "cell_type": "markdown",
   "id": "burning-extreme",
   "metadata": {},
   "source": [
    "That didn't seem to help much (in some cases, it hurt!).  We will now add the proportion of sentence words in the AoA dataset as well as the AoA sum for the entire sentence."
   ]
  },
  {
   "cell_type": "code",
   "execution_count": 19,
   "id": "intended-uganda",
   "metadata": {},
   "outputs": [],
   "source": [
    "train_X, test_X, train_y, test_y, xtrain_count, xtest_count, xtrain_tfidf, xtest_tfidf, xtrain_tfidf_ngram, \\\n",
    "xtest_tfidf_ngram, xtrain_tfidf_ngram_chars, xtest_tfidf_ngram_chars \\\n",
    "= split_vectorize([\"original_text\", 'dc_proportion','AoA_proportion','AoA_sum'], regex_pattern = r'\\S*', \\\n",
    "                  stop_words = None)\n",
    "\n",
    "feature_list = ['dc_proportion', 'AoA_proportion', 'AoA_sum']\n",
    "\n",
    "for feature in feature_list:\n",
    "    add_feature_to_matrix(feature)"
   ]
  },
  {
   "cell_type": "code",
   "execution_count": 20,
   "id": "unusual-observation",
   "metadata": {},
   "outputs": [
    {
     "name": "stdout",
     "output_type": "stream",
     "text": [
      "Random dummy accuracy: 0.4988770730958231\n",
      "Most frequent dummy accuracy: 0.4982532248157248 \n",
      "\n",
      "LogisticRegression count accuracy: 0.7025011517199017\n",
      "LogisticRegression TF-IDF accuracy: 0.7019732800982801\n",
      "LogisticRegression TF-IDF n-gram accuracy: 0.7167824785012284\n",
      "LogisticRegression TF-IDF n-gram characters accuracy: 0.7041423525798526 \n",
      "\n",
      "MultinomialNB count accuracy: 0.6215736332923832\n",
      "MultinomialNB TF-IDF accuracy: 0.6421990171990172\n",
      "MultinomialNB TF-IDF n-gram accuracy: 0.6066780558968059\n",
      "MultinomialNB TF-IDF n-gram characters accuracy: 0.6299044072481572 \n",
      "\n",
      "RandomForest count accuracy: 0.6572481572481572\n",
      "RandomForest TF-IDF accuracy: 0.6631507217444718\n",
      "RandomForest TF-IDF n-gram accuracy: 0.6591101044226044\n",
      "RandomForest TF-IDF n-gram characters accuracy: 0.6852157555282555\n"
     ]
    }
   ],
   "source": [
    "fit_predict_score()"
   ]
  },
  {
   "cell_type": "code",
   "execution_count": 21,
   "id": "warming-professor",
   "metadata": {},
   "outputs": [
    {
     "data": {
      "text/html": [
       "<div>\n",
       "<style scoped>\n",
       "    .dataframe tbody tr th:only-of-type {\n",
       "        vertical-align: middle;\n",
       "    }\n",
       "\n",
       "    .dataframe tbody tr th {\n",
       "        vertical-align: top;\n",
       "    }\n",
       "\n",
       "    .dataframe thead th {\n",
       "        text-align: right;\n",
       "    }\n",
       "</style>\n",
       "<table border=\"1\" class=\"dataframe\">\n",
       "  <thead>\n",
       "    <tr style=\"text-align: right;\">\n",
       "      <th></th>\n",
       "      <th>wc w/o stop</th>\n",
       "      <th>ws w/o stop</th>\n",
       "      <th>wc w/ stop</th>\n",
       "      <th>ws w/ stop</th>\n",
       "      <th>DC_3000</th>\n",
       "      <th>ws w/ stop + dc_prop</th>\n",
       "      <th>ws w/ stop + dc_prop + AoA</th>\n",
       "    </tr>\n",
       "  </thead>\n",
       "  <tbody>\n",
       "    <tr>\n",
       "      <th>Random</th>\n",
       "      <td>0.49888</td>\n",
       "      <td>0.49888</td>\n",
       "      <td>0.49888</td>\n",
       "      <td>0.49888</td>\n",
       "      <td>0.49888</td>\n",
       "      <td>0.49888</td>\n",
       "      <td>0.49888</td>\n",
       "    </tr>\n",
       "    <tr>\n",
       "      <th>Most Frequent</th>\n",
       "      <td>0.49825</td>\n",
       "      <td>0.49825</td>\n",
       "      <td>0.49825</td>\n",
       "      <td>0.49825</td>\n",
       "      <td>0.49825</td>\n",
       "      <td>0.49825</td>\n",
       "      <td>0.49825</td>\n",
       "    </tr>\n",
       "    <tr>\n",
       "      <th>LR, count</th>\n",
       "      <td>0.65809</td>\n",
       "      <td>0.68131</td>\n",
       "      <td>0.67456</td>\n",
       "      <td>0.69370</td>\n",
       "      <td>0.65119</td>\n",
       "      <td>0.69599</td>\n",
       "      <td>0.70217</td>\n",
       "    </tr>\n",
       "    <tr>\n",
       "      <th>LR, TF-IDF</th>\n",
       "      <td>0.66298</td>\n",
       "      <td>0.68611</td>\n",
       "      <td>0.68529</td>\n",
       "      <td>0.70284</td>\n",
       "      <td>0.65132</td>\n",
       "      <td>0.70292</td>\n",
       "      <td>0.70102</td>\n",
       "    </tr>\n",
       "    <tr>\n",
       "      <th>LR, TF-IDF n-gram</th>\n",
       "      <td>0.54527</td>\n",
       "      <td>0.70561</td>\n",
       "      <td>0.65906</td>\n",
       "      <td>0.71829</td>\n",
       "      <td>0.49825</td>\n",
       "      <td>0.71768</td>\n",
       "      <td>0.71714</td>\n",
       "    </tr>\n",
       "    <tr>\n",
       "      <th>LR, TF-IDF n-gram characters</th>\n",
       "      <td>0.70651</td>\n",
       "      <td>0.70651</td>\n",
       "      <td>0.70651</td>\n",
       "      <td>0.70651</td>\n",
       "      <td>0.70651</td>\n",
       "      <td>0.70639</td>\n",
       "      <td>0.70479</td>\n",
       "    </tr>\n",
       "    <tr>\n",
       "      <th>MNB, count</th>\n",
       "      <td>0.57572</td>\n",
       "      <td>0.59470</td>\n",
       "      <td>0.59480</td>\n",
       "      <td>0.60961</td>\n",
       "      <td>0.61876</td>\n",
       "      <td>0.61139</td>\n",
       "      <td>0.62157</td>\n",
       "    </tr>\n",
       "    <tr>\n",
       "      <th>MNB, TF-IDF</th>\n",
       "      <td>0.57698</td>\n",
       "      <td>0.59158</td>\n",
       "      <td>0.59507</td>\n",
       "      <td>0.60896</td>\n",
       "      <td>0.62005</td>\n",
       "      <td>0.60947</td>\n",
       "      <td>0.64220</td>\n",
       "    </tr>\n",
       "    <tr>\n",
       "      <th>MNB, TF-IDF n-gram</th>\n",
       "      <td>0.51056</td>\n",
       "      <td>0.62069</td>\n",
       "      <td>0.57544</td>\n",
       "      <td>0.63547</td>\n",
       "      <td>0.49825</td>\n",
       "      <td>0.63619</td>\n",
       "      <td>0.60668</td>\n",
       "    </tr>\n",
       "    <tr>\n",
       "      <th>MNB, TF-IDF n-gram characters</th>\n",
       "      <td>0.63106</td>\n",
       "      <td>0.63106</td>\n",
       "      <td>0.63106</td>\n",
       "      <td>0.63106</td>\n",
       "      <td>0.63106</td>\n",
       "      <td>0.63176</td>\n",
       "      <td>0.62990</td>\n",
       "    </tr>\n",
       "    <tr>\n",
       "      <th>RF, count</th>\n",
       "      <td>0.62143</td>\n",
       "      <td>0.64437</td>\n",
       "      <td>0.64000</td>\n",
       "      <td>0.65057</td>\n",
       "      <td>0.63775</td>\n",
       "      <td>0.65327</td>\n",
       "      <td>0.65725</td>\n",
       "    </tr>\n",
       "    <tr>\n",
       "      <th>RF, TF-IDF</th>\n",
       "      <td>0.62622</td>\n",
       "      <td>0.65555</td>\n",
       "      <td>0.64804</td>\n",
       "      <td>0.65723</td>\n",
       "      <td>0.63796</td>\n",
       "      <td>0.66578</td>\n",
       "      <td>0.66315</td>\n",
       "    </tr>\n",
       "    <tr>\n",
       "      <th>RF, TF-IDF n-gram</th>\n",
       "      <td>0.53893</td>\n",
       "      <td>0.66884</td>\n",
       "      <td>0.60195</td>\n",
       "      <td>0.66261</td>\n",
       "      <td>0.49825</td>\n",
       "      <td>0.66459</td>\n",
       "      <td>0.65911</td>\n",
       "    </tr>\n",
       "    <tr>\n",
       "      <th>RF, TF-IDF n-gram characters</th>\n",
       "      <td>0.68582</td>\n",
       "      <td>0.68582</td>\n",
       "      <td>0.68582</td>\n",
       "      <td>0.68582</td>\n",
       "      <td>0.68582</td>\n",
       "      <td>0.68656</td>\n",
       "      <td>0.68522</td>\n",
       "    </tr>\n",
       "  </tbody>\n",
       "</table>\n",
       "</div>"
      ],
      "text/plain": [
       "                               wc w/o stop  ws w/o stop  wc w/ stop  \\\n",
       "Random                             0.49888      0.49888     0.49888   \n",
       "Most Frequent                      0.49825      0.49825     0.49825   \n",
       "LR, count                          0.65809      0.68131     0.67456   \n",
       "LR, TF-IDF                         0.66298      0.68611     0.68529   \n",
       "LR, TF-IDF n-gram                  0.54527      0.70561     0.65906   \n",
       "LR, TF-IDF n-gram characters       0.70651      0.70651     0.70651   \n",
       "MNB, count                         0.57572      0.59470     0.59480   \n",
       "MNB, TF-IDF                        0.57698      0.59158     0.59507   \n",
       "MNB, TF-IDF n-gram                 0.51056      0.62069     0.57544   \n",
       "MNB, TF-IDF n-gram characters      0.63106      0.63106     0.63106   \n",
       "RF, count                          0.62143      0.64437     0.64000   \n",
       "RF, TF-IDF                         0.62622      0.65555     0.64804   \n",
       "RF, TF-IDF n-gram                  0.53893      0.66884     0.60195   \n",
       "RF, TF-IDF n-gram characters       0.68582      0.68582     0.68582   \n",
       "\n",
       "                               ws w/ stop  DC_3000  ws w/ stop + dc_prop  \\\n",
       "Random                            0.49888  0.49888               0.49888   \n",
       "Most Frequent                     0.49825  0.49825               0.49825   \n",
       "LR, count                         0.69370  0.65119               0.69599   \n",
       "LR, TF-IDF                        0.70284  0.65132               0.70292   \n",
       "LR, TF-IDF n-gram                 0.71829  0.49825               0.71768   \n",
       "LR, TF-IDF n-gram characters      0.70651  0.70651               0.70639   \n",
       "MNB, count                        0.60961  0.61876               0.61139   \n",
       "MNB, TF-IDF                       0.60896  0.62005               0.60947   \n",
       "MNB, TF-IDF n-gram                0.63547  0.49825               0.63619   \n",
       "MNB, TF-IDF n-gram characters     0.63106  0.63106               0.63176   \n",
       "RF, count                         0.65057  0.63775               0.65327   \n",
       "RF, TF-IDF                        0.65723  0.63796               0.66578   \n",
       "RF, TF-IDF n-gram                 0.66261  0.49825               0.66459   \n",
       "RF, TF-IDF n-gram characters      0.68582  0.68582               0.68656   \n",
       "\n",
       "                               ws w/ stop + dc_prop + AoA  \n",
       "Random                                            0.49888  \n",
       "Most Frequent                                     0.49825  \n",
       "LR, count                                         0.70217  \n",
       "LR, TF-IDF                                        0.70102  \n",
       "LR, TF-IDF n-gram                                 0.71714  \n",
       "LR, TF-IDF n-gram characters                      0.70479  \n",
       "MNB, count                                        0.62157  \n",
       "MNB, TF-IDF                                       0.64220  \n",
       "MNB, TF-IDF n-gram                                0.60668  \n",
       "MNB, TF-IDF n-gram characters                     0.62990  \n",
       "RF, count                                         0.65725  \n",
       "RF, TF-IDF                                        0.66315  \n",
       "RF, TF-IDF n-gram                                 0.65911  \n",
       "RF, TF-IDF n-gram characters                      0.68522  "
      ]
     },
     "execution_count": 21,
     "metadata": {},
     "output_type": "execute_result"
    }
   ],
   "source": [
    "models = ['Random', 'Most Frequent', 'LR, count', 'LR, TF-IDF', 'LR, TF-IDF n-gram', \\\n",
    "         'LR, TF-IDF n-gram characters', 'MNB, count', 'MNB, TF-IDF', 'MNB, TF-IDF n-gram', \\\n",
    "         'MNB, TF-IDF n-gram characters', 'RF, count', 'RF, TF-IDF', 'RF, TF-IDF n-gram', \\\n",
    "         'RF, TF-IDF n-gram characters']\n",
    "\n",
    "word_characters_no_stop = [0.49888, 0.49825, 0.65809, 0.66298, 0.54527, 0.70651, 0.57572, 0.57698, 0.51056, \\\n",
    "                          0.63106, 0.62143, 0.62622, 0.53893, 0.68582]\n",
    "\n",
    "whitespace_no_stop = [0.49888, 0.49825, 0.68131, 0.68611, 0.70561, 0.70651, 0.59470, 0.59158, 0.62069, \\\n",
    "                     0.63106, 0.64437, 0.65555, 0.66884, 0.68582]\n",
    "\n",
    "word_characters_w_stop = [0.49888, 0.49825, 0.67456, 0.68529, 0.65906, 0.70651, 0.59480, 0.59507, 0.57544, \\\n",
    "                          0.63106, 0.64000, 0.64804, 0.60195, 0.68582]\n",
    "\n",
    "whitespace_w_stop = [0.49888, 0.49825, 0.69370, 0.70284, 0.71829, 0.70651, 0.60961, 0.60896, 0.63547, 0.63106, \\\n",
    "                     0.65057, 0.65723, 0.66261, 0.68582]\n",
    "\n",
    "dc_3000 = [0.49888, 0.49825, 0.65119, 0.65132, 0.49825, 0.70651, 0.61876, 0.62005, 0.49825, 0.63106, 0.63775, \\\n",
    "          0.63796, 0.49825, 0.68582]\n",
    "\n",
    "whitespace_w_stop_dc_prop = [0.49888, 0.49825, 0.69599, 0.70292, 0.71768, 0.70639, 0.61139, 0.60947, 0.63619, \\\n",
    "                             0.63176, 0.65327, 0.66578, 0.66459, 0.68656]\n",
    "\n",
    "whitespace_w_stop_dc_prop_AoA = [0.49888, 0.49825, 0.70217, 0.70102, 0.71714, 0.70479, 0.62157, 0.64220, 0.60668, \\\n",
    "                                 0.62990, 0.65725, 0.66315, 0.65911, 0.68522]\n",
    "\n",
    "results_df = pd.DataFrame(index = models)\n",
    "results_df['wc w/o stop'] = word_characters_no_stop\n",
    "results_df['ws w/o stop'] = whitespace_no_stop\n",
    "results_df['wc w/ stop'] = word_characters_w_stop\n",
    "results_df['ws w/ stop'] = whitespace_w_stop\n",
    "results_df['DC_3000'] = dc_3000\n",
    "results_df['ws w/ stop + dc_prop'] = whitespace_w_stop_dc_prop\n",
    "results_df['ws w/ stop + dc_prop + AoA'] = whitespace_w_stop_dc_prop_AoA\n",
    "results_df"
   ]
  },
  {
   "cell_type": "markdown",
   "id": "decimal-surgeon",
   "metadata": {},
   "source": [
    "# Hyperparameter Tuning on Best Performing Model"
   ]
  },
  {
   "cell_type": "code",
   "execution_count": 317,
   "id": "demonstrated-conspiracy",
   "metadata": {},
   "outputs": [],
   "source": [
    "train_X, test_X, train_y, test_y = train_test_split(df['original_text'],df[\"label\"], random_state = 0)\n",
    "\n",
    "tfidf_vect_ngram = TfidfVectorizer(analyzer='word', token_pattern=r'\\S*', ngram_range=(2,3))\n",
    "tfidf_vect_ngram.fit(train_X)\n",
    "xtrain_tfidf_ngram =  tfidf_vect_ngram.transform(train_X)\n",
    "xtest_tfidf_ngram =  tfidf_vect_ngram.transform(test_X)\n",
    "\n",
    "lr = LogisticRegression(random_state = 0, max_iter = 500, n_jobs = -1)"
   ]
  },
  {
   "cell_type": "code",
   "execution_count": 28,
   "id": "c178189c",
   "metadata": {},
   "outputs": [
    {
     "name": "stdout",
     "output_type": "stream",
     "text": [
      "Fitting 5 folds for each of 14 candidates, totalling 70 fits\n"
     ]
    },
    {
     "data": {
      "text/plain": [
       "GridSearchCV(estimator=LogisticRegression(max_iter=500, n_jobs=-1,\n",
       "                                          random_state=0),\n",
       "             n_jobs=-1,\n",
       "             param_grid={'C': [0.01, 0.1, 0.5, 1, 5, 10, 100],\n",
       "                         'penalty': ['none', 'l2']},\n",
       "             return_train_score=True, verbose=4)"
      ]
     },
     "execution_count": 28,
     "metadata": {},
     "output_type": "execute_result"
    }
   ],
   "source": [
    "param_grid = {'penalty': ['none', 'l2'],\n",
    "             'C': [0.01, 0.1, 0.5, 1, 5, 10, 100]}\n",
    "clf = GridSearchCV(lr, param_grid, refit = True, return_train_score = True, verbose = 4, n_jobs = -1)\n",
    "clf.fit(xtrain_tfidf_ngram, train_y)"
   ]
  },
  {
   "cell_type": "code",
   "execution_count": 30,
   "id": "4eb17c4e",
   "metadata": {},
   "outputs": [
    {
     "data": {
      "text/plain": [
       "{'mean_fit_time': array([275.26693296,  14.21525388, 262.4925355 ,  41.31083179,\n",
       "        255.75405898,  64.75855055, 273.00667744,  92.51423426,\n",
       "        263.81134562, 228.6466537 , 249.39479918, 293.43376818,\n",
       "        248.26664948, 275.06712179]),\n",
       " 'std_fit_time': array([22.6563189 ,  1.59043381, 22.71046167,  7.98381467, 15.20833003,\n",
       "        10.15244157, 24.15270314,  9.70086136, 25.82200708, 20.30875537,\n",
       "         8.52835537,  9.60591013,  8.99488536,  8.76217018]),\n",
       " 'mean_score_time': array([0.09413919, 0.09909611, 0.07618752, 0.08789735, 0.08007979,\n",
       "        0.05841455, 0.0524754 , 0.04995174, 0.05749531, 0.07349663,\n",
       "        0.04624515, 0.06951685, 0.05898142, 0.04457188]),\n",
       " 'std_score_time': array([0.02663067, 0.03388054, 0.0554621 , 0.04321677, 0.0265382 ,\n",
       "        0.0202193 , 0.0082102 , 0.00518296, 0.02119367, 0.03025851,\n",
       "        0.00065254, 0.01950826, 0.02978657, 0.00206374]),\n",
       " 'param_C': masked_array(data=[0.01, 0.01, 0.1, 0.1, 0.5, 0.5, 1, 1, 5, 5, 10, 10,\n",
       "                    100, 100],\n",
       "              mask=[False, False, False, False, False, False, False, False,\n",
       "                    False, False, False, False, False, False],\n",
       "        fill_value='?',\n",
       "             dtype=object),\n",
       " 'param_penalty': masked_array(data=['none', 'l2', 'none', 'l2', 'none', 'l2', 'none', 'l2',\n",
       "                    'none', 'l2', 'none', 'l2', 'none', 'l2'],\n",
       "              mask=[False, False, False, False, False, False, False, False,\n",
       "                    False, False, False, False, False, False],\n",
       "        fill_value='?',\n",
       "             dtype=object),\n",
       " 'params': [{'C': 0.01, 'penalty': 'none'},\n",
       "  {'C': 0.01, 'penalty': 'l2'},\n",
       "  {'C': 0.1, 'penalty': 'none'},\n",
       "  {'C': 0.1, 'penalty': 'l2'},\n",
       "  {'C': 0.5, 'penalty': 'none'},\n",
       "  {'C': 0.5, 'penalty': 'l2'},\n",
       "  {'C': 1, 'penalty': 'none'},\n",
       "  {'C': 1, 'penalty': 'l2'},\n",
       "  {'C': 5, 'penalty': 'none'},\n",
       "  {'C': 5, 'penalty': 'l2'},\n",
       "  {'C': 10, 'penalty': 'none'},\n",
       "  {'C': 10, 'penalty': 'l2'},\n",
       "  {'C': 100, 'penalty': 'none'},\n",
       "  {'C': 100, 'penalty': 'l2'}],\n",
       " 'split0_test_score': array([0.67174803, 0.6593832 , 0.67174803, 0.69230277, 0.67174803,\n",
       "        0.70773882, 0.67174803, 0.71098599, 0.67174803, 0.70276409,\n",
       "        0.67174803, 0.69684561, 0.67174803, 0.68659223]),\n",
       " 'split1_test_score': array([0.67035112, 0.66307286, 0.67035112, 0.69548108, 0.67035112,\n",
       "        0.71261297, 0.67035112, 0.71510837, 0.67035112, 0.70594257,\n",
       "        0.67035112, 0.70039191, 0.67035112, 0.68890666]),\n",
       " 'split2_test_score': array([0.67078301, 0.66256099, 0.67078301, 0.69405743, 0.67078301,\n",
       "        0.71098136, 0.67078301, 0.71237303, 0.67078301, 0.70475886,\n",
       "        0.67078301, 0.69946413, 0.67078301, 0.6899944 ]),\n",
       " 'split3_test_score': array([0.67281452, 0.66062545, 0.67281452, 0.6924898 , 0.67281452,\n",
       "        0.7095737 , 0.67281452, 0.71170119, 0.67281452, 0.70563865,\n",
       "        0.67281452, 0.70043989, 0.67281452, 0.69240982]),\n",
       " 'split4_test_score': array([0.6762697 , 0.66158522, 0.6762697 , 0.69548108, 0.6762697 ,\n",
       "        0.71235703, 0.6762697 , 0.71478845, 0.6762697 , 0.70538271,\n",
       "        0.6762697 , 0.70077581, 0.6762697 , 0.69119411]),\n",
       " 'mean_test_score': array([0.67239328, 0.66144554, 0.67239328, 0.69396243, 0.67239328,\n",
       "        0.71065278, 0.67239328, 0.71299141, 0.67239328, 0.70489738,\n",
       "        0.67239328, 0.69958347, 0.67239328, 0.68981945]),\n",
       " 'std_test_score': array([0.00211583, 0.00132949, 0.00211583, 0.00138165, 0.00211583,\n",
       "        0.00181716, 0.00211583, 0.0016601 , 0.00211583, 0.00113557,\n",
       "        0.00211583, 0.00143658, 0.00211583, 0.00199391]),\n",
       " 'rank_test_score': array([ 7, 14,  7,  5,  7,  2,  7,  1,  7,  3,  7,  4,  7,  6],\n",
       "       dtype=int32),\n",
       " 'split0_train_score': array([0.99445733, 0.66695193, 0.99445733, 0.71698792, 0.99445733,\n",
       "        0.77675758, 0.99445733, 0.81202111, 0.99445733, 0.91368472,\n",
       "        0.99445733, 0.95269935, 0.99445733, 0.99247781]),\n",
       " 'split1_train_score': array([0.99442536, 0.6659975 , 0.99442536, 0.71592531, 0.99442536,\n",
       "        0.77584269, 0.99442536, 0.81147   , 0.99442536, 0.91390901,\n",
       "        0.99442536, 0.9524556 , 0.99442536, 0.99173802]),\n",
       " 'split2_train_score': array([0.99454533, 0.66731717, 0.99454533, 0.71645718, 0.99454533,\n",
       "        0.77646254, 0.99454533, 0.81198588, 0.99454533, 0.91372905,\n",
       "        0.99454533, 0.95218367, 0.99454533, 0.9921979 ]),\n",
       " 'split3_train_score': array([0.99452933, 0.66665734, 0.99452933, 0.71690907, 0.99452933,\n",
       "        0.77551078, 0.99452933, 0.81121406, 0.99452933, 0.91397699,\n",
       "        0.99452933, 0.95207969, 0.99452933, 0.99242985]),\n",
       " 'split4_train_score': array([0.99461331, 0.66660535, 0.99461331, 0.71619725, 0.99461331,\n",
       "        0.77618261, 0.99461331, 0.81123806, 0.99461331, 0.91389301,\n",
       "        0.99461331, 0.9524396 , 0.99461331, 0.99240585]),\n",
       " 'mean_train_score': array([0.99451413, 0.66670586, 0.99451413, 0.71649535, 0.99451413,\n",
       "        0.77615124, 0.99451413, 0.81158582, 0.99451413, 0.91383855,\n",
       "        0.99451413, 0.95237158, 0.99451413, 0.99224989]),\n",
       " 'std_train_score': array([6.65560053e-05, 4.35543950e-04, 6.65560053e-05, 4.07199715e-04,\n",
       "        6.65560053e-05, 4.40666573e-04, 6.65560053e-05, 3.52726854e-04,\n",
       "        6.65560053e-05, 1.12027437e-04, 6.65560053e-05, 2.18920514e-04,\n",
       "        6.65560053e-05, 2.73266190e-04])}"
      ]
     },
     "execution_count": 30,
     "metadata": {},
     "output_type": "execute_result"
    }
   ],
   "source": [
    "clf.cv_results_"
   ]
  },
  {
   "cell_type": "code",
   "execution_count": 31,
   "id": "cc2b080a",
   "metadata": {},
   "outputs": [
    {
     "data": {
      "text/plain": [
       "LogisticRegression(C=1, max_iter=500, n_jobs=-1, random_state=0)"
      ]
     },
     "execution_count": 31,
     "metadata": {},
     "output_type": "execute_result"
    }
   ],
   "source": [
    "clf.best_estimator_"
   ]
  },
  {
   "cell_type": "code",
   "execution_count": 32,
   "id": "fb3b4784",
   "metadata": {},
   "outputs": [
    {
     "data": {
      "text/plain": [
       "0.712991406907182"
      ]
     },
     "execution_count": 32,
     "metadata": {},
     "output_type": "execute_result"
    }
   ],
   "source": [
    "clf.best_score_"
   ]
  },
  {
   "cell_type": "code",
   "execution_count": 33,
   "id": "208cd333",
   "metadata": {},
   "outputs": [
    {
     "data": {
      "text/plain": [
       "{'C': 1, 'penalty': 'l2'}"
      ]
     },
     "execution_count": 33,
     "metadata": {},
     "output_type": "execute_result"
    }
   ],
   "source": [
    "clf.best_params_"
   ]
  },
  {
   "cell_type": "markdown",
   "id": "physical-snowboard",
   "metadata": {},
   "source": [
    "Default settings seem to produce the best results."
   ]
  },
  {
   "cell_type": "markdown",
   "id": "outer-garage",
   "metadata": {},
   "source": [
    "# Model Analysis\n",
    "Training the model with optimal parameters and analyze."
   ]
  },
  {
   "cell_type": "code",
   "execution_count": 318,
   "id": "differential-reading",
   "metadata": {},
   "outputs": [
    {
     "data": {
      "text/plain": [
       "LogisticRegression(max_iter=500, n_jobs=-1, random_state=0)"
      ]
     },
     "execution_count": 318,
     "metadata": {},
     "output_type": "execute_result"
    }
   ],
   "source": [
    "lr.fit(xtrain_tfidf_ngram, train_y)"
   ]
  },
  {
   "cell_type": "code",
   "execution_count": null,
   "id": "valuable-slovenia",
   "metadata": {},
   "outputs": [],
   "source": [
    "absolute_coef = np.absolute(lr.coef_)\n",
    "index_positions = absolute_coef.argsort()[0][-20:]\n",
    "top_20_coef = np.flip(lr.coef_[0][index_positions])\n",
    "\n",
    "feature_names = tfidf_vect_ngram.get_feature_names()\n",
    "top_20_names = np.flip([feature_names[i] for i in index_positions])"
   ]
  },
  {
   "cell_type": "code",
   "execution_count": 283,
   "id": "front-creek",
   "metadata": {},
   "outputs": [
    {
     "data": {
      "image/png": "[encoded data removed]",
      "text/plain": [
       "<Figure size 1440x432 with 1 Axes>"
      ]
     },
     "metadata": {
      "needs_background": "light"
     },
     "output_type": "display_data"
    }
   ],
   "source": [
    "x = np.arange(len(top_20_names))\n",
    "plt.figure(figsize = (20,6))\n",
    "plt.bar(x, top_20_coef, align='center', alpha=0.5)\n",
    "plt.xticks(x, top_20_names, rotation = 45)\n",
    "plt.ylabel('Coefficient Value')\n",
    "plt.xlabel('Feature Name')\n",
    "plt.title('20 Highest Coefficient (Absolute) Values, Logistic Regression TF-IDF n-gram')\n",
    "plt.show();"
   ]
  },
  {
   "cell_type": "code",
   "execution_count": 284,
   "id": "mathematical-honduras",
   "metadata": {},
   "outputs": [
    {
     "data": {
      "image/png": "[encoded data removed]",
      "text/plain": [
       "<Figure size 1440x432 with 1 Axes>"
      ]
     },
     "metadata": {
      "needs_background": "light"
     },
     "output_type": "display_data"
    }
   ],
   "source": [
    "index_positions = absolute_coef.argsort()[0][:20]\n",
    "bottom_20_coef = lr.coef_[0][index_positions]\n",
    "\n",
    "bottom_20_names = [feature_names[i] for i in index_positions]\n",
    "                   \n",
    "x = np.arange(len(bottom_20_names))\n",
    "plt.figure(figsize = (20,6))\n",
    "plt.bar(x, bottom_20_coef, align='center', alpha=0.5)\n",
    "plt.xticks(x, bottom_20_names, rotation = 45)\n",
    "plt.ylabel('Coefficient Value')\n",
    "plt.xlabel('Feature Name')\n",
    "plt.title('20 Lowest Coefficient (Absolute) Values, Logistic Regression TF-IDF n-gram')\n",
    "plt.show();"
   ]
  },
  {
   "cell_type": "code",
   "execution_count": 248,
   "id": "surprising-happening",
   "metadata": {},
   "outputs": [
    {
     "name": "stdout",
     "output_type": "stream",
     "text": [
      "Penalty = l2, C = 0.01, accuracy:  0.667565648034398\n",
      "Penalty = l2, C = 0.1, accuracy:  0.699737023955774\n",
      "Penalty = l2, C = 0.5, accuracy:  0.7165905251842751\n",
      "Penalty = l2, C = 1, accuracy:  0.718289312039312\n",
      "Penalty = l2, C = 5, accuracy:  0.7078182585995086\n",
      "Penalty = l2, C = 10, accuracy:  0.702146038083538\n",
      "Penalty = l2, C = 100, accuracy:  0.6918477426289926\n",
      "Penalty = none, accuracy:  0.6738233261670762\n"
     ]
    }
   ],
   "source": [
    "Cs = [0.01, 0.1, 0.5, 1, 5, 10, 100]\n",
    "none_accuracy = []\n",
    "l2_accuracy = []\n",
    "\n",
    "for C in Cs:\n",
    "    lr = LogisticRegression(random_state = 0, max_iter = 500, n_jobs = -1, C = C)\n",
    "    lr.fit(xtrain_tfidf_ngram, train_y)\n",
    "    preds = lr.predict(xtest_tfidf_ngram)\n",
    "    print('Penalty = l2, C = {}, accuracy: '.format(C), accuracy_score(preds, test_y))\n",
    "    l2_accuracy.append(accuracy_score(preds, test_y))\n",
    "    \n",
    "lr = LogisticRegression(random_state = 0, max_iter = 500, n_jobs = -1, penalty = 'none')\n",
    "lr.fit(xtrain_tfidf_ngram, train_y)\n",
    "preds = lr.predict(xtest_tfidf_ngram)\n",
    "print('Penalty = none, accuracy: ', accuracy_score(preds, test_y))\n",
    "none_accuracy.append(accuracy_score(preds, test_y))"
   ]
  },
  {
   "cell_type": "code",
   "execution_count": 288,
   "id": "painful-blond",
   "metadata": {},
   "outputs": [
    {
     "data": {
      "text/plain": [
       "Text(0.5, 1.0, 'Logistic Regression TF-IDF n-gram Sensitivity Plot')"
      ]
     },
     "execution_count": 288,
     "metadata": {},
     "output_type": "execute_result"
    },
    {
     "data": {
      "image/png": "[encoded data removed]",
      "text/plain": [
       "<Figure size 720x432 with 1 Axes>"
      ]
     },
     "metadata": {
      "needs_background": "light"
     },
     "output_type": "display_data"
    }
   ],
   "source": [
    "none_accuracy = [0.6738233261670762, 0.6738233261670762, 0.6738233261670762, 0.6738233261670762, \\\n",
    "                0.6738233261670762, 0.6738233261670762, 0.6738233261670762]\n",
    "\n",
    "plt.figure(figsize = (10,6))\n",
    "plt.plot(np.log(Cs), l2_accuracy, label = 'penalty = l2')\n",
    "plt.plot(np.log(Cs), none_accuracy, color = 'orange', label = 'penalty = none')\n",
    "plt.xticks([np.log(Cs[0]), np.log(Cs[1]), np.log(Cs[2]), np.log(Cs[3]), np.log(Cs[4]), np.log(Cs[5]), \\\n",
    "           np.log(Cs[6])], ['0.01', '0.1', '0.5', '1', '5', '10', '100'], rotation = 45)\n",
    "plt.vlines([np.log(Cs[0]), np.log(Cs[1]), np.log(Cs[2]), np.log(Cs[3]), np.log(Cs[4]), np.log(Cs[5]), \\\n",
    "            np.log(Cs[6])], 0.667565648034398, l2_accuracy, linestyles = 'dotted')\n",
    "plt.legend()\n",
    "plt.xlabel('Values of Hyperparameter C')\n",
    "plt.ylabel('Test Set Accuracy')\n",
    "plt.title('Logistic Regression TF-IDF n-gram Sensitivity Plot')"
   ]
  },
  {
   "cell_type": "code",
   "execution_count": 319,
   "id": "transparent-consortium",
   "metadata": {},
   "outputs": [
    {
     "data": {
      "text/plain": [
       "0.8077523546273546"
      ]
     },
     "execution_count": 319,
     "metadata": {},
     "output_type": "execute_result"
    }
   ],
   "source": [
    "train_preds = lr.predict(xtrain_tfidf_ngram)\n",
    "accuracy_score(train_preds, train_y)"
   ]
  },
  {
   "cell_type": "code",
   "execution_count": 411,
   "id": "lasting-advisory",
   "metadata": {},
   "outputs": [
    {
     "name": "stdout",
     "output_type": "stream",
     "text": [
      "Precision: 0.7125375458894204\n",
      "Recall:  0.735108458625043\n",
      "38430 36410 15504 13848\n"
     ]
    },
    {
     "data": {
      "text/html": [
       "<div>\n",
       "<style scoped>\n",
       "    .dataframe tbody tr th:only-of-type {\n",
       "        vertical-align: middle;\n",
       "    }\n",
       "\n",
       "    .dataframe tbody tr th {\n",
       "        vertical-align: top;\n",
       "    }\n",
       "\n",
       "    .dataframe thead th {\n",
       "        text-align: right;\n",
       "    }\n",
       "</style>\n",
       "<table border=\"1\" class=\"dataframe\">\n",
       "  <thead>\n",
       "    <tr style=\"text-align: right;\">\n",
       "      <th></th>\n",
       "      <th>Predicted True</th>\n",
       "      <th>Predicted False</th>\n",
       "    </tr>\n",
       "  </thead>\n",
       "  <tbody>\n",
       "    <tr>\n",
       "      <th>Actually True</th>\n",
       "      <td>0.368838</td>\n",
       "      <td>0.132908</td>\n",
       "    </tr>\n",
       "    <tr>\n",
       "      <th>Actually False</th>\n",
       "      <td>0.148802</td>\n",
       "      <td>0.349451</td>\n",
       "    </tr>\n",
       "  </tbody>\n",
       "</table>\n",
       "</div>"
      ],
      "text/plain": [
       "                Predicted True  Predicted False\n",
       "Actually True         0.368838         0.132908\n",
       "Actually False        0.148802         0.349451"
      ]
     },
     "execution_count": 411,
     "metadata": {},
     "output_type": "execute_result"
    }
   ],
   "source": [
    "test_preds = lr.predict(xtest_tfidf_ngram)\n",
    "\n",
    "test_df = pd.DataFrame(columns = ['original_text', 'predicted_label', 'true_label'], index = test_X.index)\n",
    "test_df['original_text'] = test_X\n",
    "test_df['predicted_label'] = test_preds\n",
    "test_df['true_label'] = test_y\n",
    "predtrue_acttrue = test_df[(test_df['predicted_label'] == 1) & (test_df['true_label'] == 1)]\n",
    "predfalse_actfalse = test_df[(test_df['predicted_label'] == 0) & (test_df['true_label'] == 0)]\n",
    "predtrue_actfalse = test_df[(test_df['predicted_label'] == 1) & (test_df['true_label'] == 0)]\n",
    "predfalse_acttrue = test_df[(test_df['predicted_label'] == 0) & (test_df['true_label'] == 1)]\n",
    "\n",
    "cross_df = pd.DataFrame(columns = ['Predicted True', 'Predicted False'], \\\n",
    "                        index = ['Actually True', 'Actually False'])\n",
    "\n",
    "cross_df['Predicted True'] = [len(predtrue_acttrue)/len(test_df), len(predtrue_actfalse)/len(test_df)]\n",
    "cross_df['Predicted False'] = [len(predfalse_acttrue)/len(test_df), len(predfalse_actfalse)/len(test_df)]\n",
    "\n",
    "print('Precision:', (len(predtrue_acttrue)/(len(predtrue_acttrue) + len(predtrue_actfalse))))\n",
    "print('Recall: ', (len(predtrue_acttrue)/(len(predtrue_acttrue) + len(predfalse_acttrue))))\n",
    "\n",
    "print(len(predtrue_acttrue), len(predfalse_actfalse), len(predtrue_actfalse), len(predfalse_acttrue))\n",
    "\n",
    "cross_df"
   ]
  },
  {
   "cell_type": "markdown",
   "id": "novel-leader",
   "metadata": {},
   "source": [
    "Here we see that false positives (predicted true, actually false) and false negatives (predicted false, actually true) occur in similar proportions."
   ]
  },
  {
   "cell_type": "code",
   "execution_count": 462,
   "id": "loose-eating",
   "metadata": {},
   "outputs": [
    {
     "name": "stdout",
     "output_type": "stream",
     "text": [
      "1.2250554123513577\n",
      "0.6692939196540306\n",
      "-1.30437447714933\n",
      "-0.5945541805754706\n"
     ]
    }
   ],
   "source": [
    "coef = lr.coef_\n",
    "                   \n",
    "top_coef_index_positions = absolute_coef.argsort()[0][-50:]\n",
    "bottom_coef_index_positions = absolute_coef.argsort()[0][:50]\n",
    "\n",
    "tp_df = test_df.reset_index()\n",
    "tp_df = tp_df[(tp_df['predicted_label'] == 1) & (tp_df['true_label'] == 1)]\n",
    "tp_indices = tp_df.index\n",
    "tp_vecs = xtest_tfidf_ngram[tp_indices]\n",
    "\n",
    "fp_df = test_df.reset_index()\n",
    "fp_df = fp_df[(fp_df['predicted_label'] == 1) & (fp_df['true_label'] == 0)]\n",
    "fp_indices = fp_df.index\n",
    "fp_vecs = xtest_tfidf_ngram[fp_indices]\n",
    "\n",
    "tn_df = test_df.reset_index()\n",
    "tn_df = tn_df[(tn_df['predicted_label'] == 0) & (tn_df['true_label'] == 0)]\n",
    "tn_indices = tn_df.index\n",
    "tn_vecs = xtest_tfidf_ngram[tn_indices]\n",
    "\n",
    "fn_df = test_df.reset_index()\n",
    "fn_df = fn_df[(fn_df['predicted_label'] == 0) & (fn_df['true_label'] == 1)]\n",
    "fn_indices = fn_df.index\n",
    "fn_vecs = xtest_tfidf_ngram[fn_indices]\n",
    "\n",
    "print(lr.decision_function(tp_vecs).mean())\n",
    "print(lr.decision_function(fp_vecs).mean())\n",
    "print(lr.decision_function(tn_vecs).mean())\n",
    "print(lr.decision_function(fn_vecs).mean())"
   ]
  },
  {
   "cell_type": "code",
   "execution_count": 468,
   "id": "lyric-matter",
   "metadata": {},
   "outputs": [
    {
     "name": "stdout",
     "output_type": "stream",
     "text": [
      "(0.00419416999650816, 0.0010779841759631583) 3.8907528422304987\n",
      "(0.003137075416544481, 0.0010391935041179836) 3.0187596478550702\n",
      "(0.0017546293105513767, 0.002598844017529873) 0.6751576080426335\n",
      "(0.0017581471494194415, 0.0014154968794652823) 1.2420706643193722\n"
     ]
    }
   ],
   "source": [
    "top_pos_coef = coef[0][coef.argsort()[0][-50:]]\n",
    "top_pos_index = coef.argsort()[0][-50:]\n",
    "top_pos_features = [feature_names[i] for i in top_pos_index]\n",
    "\n",
    "top_neg_coef = coef[0][coef.argsort()[0][:50]]\n",
    "top_neg_index = coef.argsort()[0][:50]\n",
    "top_neg_features = [feature_names[i] for i in top_neg_index]\n",
    "\n",
    "tp_mean_coef = tp_vecs[:, top_pos_index].mean(axis = 0).mean(), tp_vecs[:, top_neg_index].mean(axis = 0).mean()\n",
    "fp_mean_coef = fp_vecs[:, top_pos_index].mean(axis = 0).mean(), fp_vecs[:, top_neg_index].mean(axis = 0).mean()\n",
    "tn_mean_coef = tn_vecs[:, top_pos_index].mean(axis = 0).mean(), tn_vecs[:, top_neg_index].mean(axis = 0).mean()\n",
    "fn_mean_coef = fn_vecs[:, top_pos_index].mean(axis = 0).mean(), fn_vecs[:, top_neg_index].mean(axis = 0).mean()\n",
    "\n",
    "print(tp_mean_coef, tp_mean_coef[0]/tp_mean_coef[1])\n",
    "print(fp_mean_coef, fp_mean_coef[0]/fp_mean_coef[1])\n",
    "print(tn_mean_coef, tn_mean_coef[0]/tn_mean_coef[1])\n",
    "print(fn_mean_coef, fn_mean_coef[0]/fn_mean_coef[1])"
   ]
  },
  {
   "cell_type": "markdown",
   "id": "crazy-choice",
   "metadata": {},
   "source": [
    "# Clustering"
   ]
  },
  {
   "cell_type": "code",
   "execution_count": 156,
   "id": "integrated-imperial",
   "metadata": {},
   "outputs": [
    {
     "name": "stderr",
     "output_type": "stream",
     "text": [
      "/Library/Frameworks/Python.framework/Versions/3.9/lib/python3.9/site-packages/sklearn/decomposition/_nmf.py:1090: ConvergenceWarning: Maximum number of iterations 200 reached. Increase it to improve convergence.\n",
      "  warnings.warn(\"Maximum number of iterations %d reached. Increase it to\"\n",
      "/Library/Frameworks/Python.framework/Versions/3.9/lib/python3.9/site-packages/sklearn/decomposition/_nmf.py:1090: ConvergenceWarning: Maximum number of iterations 200 reached. Increase it to improve convergence.\n",
      "  warnings.warn(\"Maximum number of iterations %d reached. Increase it to\"\n"
     ]
    }
   ],
   "source": [
    "#add highest probability topics from LDA and NMF for 10 components and 20 components each\n",
    "count_vect = CountVectorizer(analyzer='word', token_pattern=r'\\S*')\n",
    "tf_documents = count_vect.fit_transform(df['original_text'])\n",
    "\n",
    "lda_20 = LatentDirichletAllocation(n_components = 20, random_state = 0, n_jobs = -1)\n",
    "topic_vecs = lda_20.fit_transform(tf_documents)\n",
    "lda_20_feature = np.argmax(topic_vecs, axis = 1)\n",
    "df['lda_20'] = lda_20_feature\n",
    "\n",
    "lda_10 = LatentDirichletAllocation(n_components = 10, random_state = 0, n_jobs = -1)\n",
    "topic_vecs = lda_10.fit_transform(tf_documents)\n",
    "lda_10_feature = np.argmax(topic_vecs, axis = 1)\n",
    "df['lda_10'] = lda_10_feature\n",
    "\n",
    "nmf_10 = NMF(n_components = 10, random_state = 0, init = \"nndsvd\")\n",
    "W_10 = nmf_10.fit_transform(tf_documents)\n",
    "H_10 = nmf_10.components_\n",
    "nmf_10_feature = np.argmax(W_10, axis = 1)\n",
    "df['nmf_10'] = lda_10_feature\n",
    "\n",
    "nmf_20 = NMF(n_components = 20, random_state = 0, init = \"nndsvd\")\n",
    "W_20 = nmf_20.fit_transform(tf_documents)\n",
    "H_20 = nmf_20.components_\n",
    "nmf_20_feature = np.argmax(W_20, axis = 1)\n",
    "df['nmf_20'] = lda_20_feature"
   ]
  },
  {
   "cell_type": "code",
   "execution_count": 157,
   "id": "fuzzy-sector",
   "metadata": {},
   "outputs": [],
   "source": [
    "#add predicted cluster labels from K-means with K = 10 and K = 20\n",
    "tfidf_vect = TfidfVectorizer(analyzer='word', token_pattern=r'\\S*')\n",
    "tfidf_documents = tfidf_vect.fit_transform(df['original_text'])\n",
    "\n",
    "kmeans_10 = KMeans(n_clusters = 10, random_state = 0)\n",
    "kmeans_10.fit(tfidf_documents)\n",
    "kmeans_10_feature = kmeans_10.labels_\n",
    "df['kmeans_10'] = kmeans_10_feature\n",
    "\n",
    "kmeans_20 = KMeans(n_clusters = 20, random_state = 0)\n",
    "kmeans_20.fit(tfidf_documents)\n",
    "kmeans_20_feature = kmeans_20.labels_\n",
    "df['kmeans_20'] = kmeans_20_feature"
   ]
  },
  {
   "cell_type": "code",
   "execution_count": 174,
   "id": "diverse-swimming",
   "metadata": {},
   "outputs": [],
   "source": [
    "feature_list = [\"original_text\", 'dc_proportion', 'AoA_proportion', 'lda_10', 'lda_20', 'nmf_10', 'nmf_20', \\\n",
    "    'kmeans_10', 'kmeans_20']\n",
    "\n",
    "train_X, test_X, train_y, test_y, xtrain_count, xtest_count, xtrain_tfidf, xtest_tfidf, xtrain_tfidf_ngram, \\\n",
    "xtest_tfidf_ngram, xtrain_tfidf_ngram_chars, xtest_tfidf_ngram_chars \\\n",
    "= split_vectorize(feature_list, regex_pattern = r'\\S*', stop_words = None)"
   ]
  },
  {
   "cell_type": "code",
   "execution_count": 175,
   "id": "ruled-reason",
   "metadata": {},
   "outputs": [],
   "source": [
    "for feature in feature_list[1:]:\n",
    "    add_feature_to_matrix(feature)"
   ]
  },
  {
   "cell_type": "code",
   "execution_count": 176,
   "id": "interesting-fellowship",
   "metadata": {},
   "outputs": [
    {
     "name": "stdout",
     "output_type": "stream",
     "text": [
      "LogisticRegression count accuracy: 0.6989500153562653\n",
      "LogisticRegression TF-IDF accuracy: 0.7022516124078624\n",
      "LogisticRegression TF-IDF n-gram accuracy: 0.7105823863636364\n",
      "LogisticRegression TF-IDF n-gram characters accuracy: 0.7032209766584766 \n",
      "\n"
     ]
    }
   ],
   "source": [
    "clf = LogisticRegression(random_state = 0, max_iter = 500, n_jobs = -1).fit(xtrain_count, train_y)\n",
    "lr_preds = clf.predict(xtest_count)\n",
    "print('LogisticRegression count accuracy:',accuracy_score(lr_preds, test_y))\n",
    "\n",
    "clf = LogisticRegression(random_state = 0, max_iter = 500, n_jobs = -1).fit(xtrain_tfidf, train_y)\n",
    "lr_preds = clf.predict(xtest_tfidf)\n",
    "print('LogisticRegression TF-IDF accuracy:',accuracy_score(lr_preds, test_y))\n",
    "\n",
    "clf = LogisticRegression(random_state = 0, max_iter = 500, n_jobs = -1).fit(xtrain_tfidf_ngram, train_y)\n",
    "lr_preds = clf.predict(xtest_tfidf_ngram)\n",
    "print('LogisticRegression TF-IDF n-gram accuracy:',accuracy_score(lr_preds, test_y))\n",
    "\n",
    "clf = LogisticRegression(random_state = 0, max_iter = 500, n_jobs = -1).fit(xtrain_tfidf_ngram_chars, train_y)\n",
    "lr_preds = clf.predict(xtest_tfidf_ngram_chars)\n",
    "print('LogisticRegression TF-IDF n-gram characters accuracy:',accuracy_score(lr_preds, test_y), '\\n')"
   ]
  },
  {
   "cell_type": "code",
   "execution_count": 290,
   "id": "religious-culture",
   "metadata": {},
   "outputs": [],
   "source": [
    "tfidf_vect = TfidfVectorizer(analyzer='word', token_pattern=r'\\S*')\n",
    "tfidf_documents = tfidf_vect.fit_transform(df['original_text'])"
   ]
  },
  {
   "cell_type": "code",
   "execution_count": 296,
   "id": "celtic-carroll",
   "metadata": {},
   "outputs": [],
   "source": [
    "inertia_values = []\n",
    "labels = []\n",
    "\n",
    "for k in range(2,21):\n",
    "    kmeans = KMeans(n_clusters = k, random_state = 0)\n",
    "    kmeans.fit(tfidf_documents)\n",
    "    labels.append(kmeans.labels_)\n",
    "    inertia_values.append(kmeans.inertia_)"
   ]
  },
  {
   "cell_type": "code",
   "execution_count": 298,
   "id": "parental-technical",
   "metadata": {},
   "outputs": [
    {
     "data": {
      "image/png": "[encoded data removed]",
      "text/plain": [
       "<Figure size 1440x360 with 2 Axes>"
      ]
     },
     "metadata": {
      "needs_background": "light"
     },
     "output_type": "display_data"
    }
   ],
   "source": [
    "x = np.arange(2,21)\n",
    "\n",
    "fig, (ax1, ax2) = plt.subplots(1, 2)\n",
    "fig.text(0.06, 0.5, 'Within-Cluster Sum-of-Squares', ha='center', va='center', rotation='vertical')\n",
    "fig.text(0.5, 0.04, 'Number of Clusters', ha='center', va='center')\n",
    "fig.set_size_inches(20, 5)\n",
    "\n",
    "ax1.plot(x, inertia_values)\n",
    "ax1.set_ylim([0, 300000])\n",
    "ax2.plot(x, inertia_values)\n",
    "ax1.set_xticks([2, 4, 6, 8, 10, 12, 14, 16, 18, 20])\n",
    "ax2.set_xticks([2, 4, 6, 8, 10, 12, 14, 16, 18, 20])\n",
    "fig.suptitle('k-means Elbow Plot');"
   ]
  },
  {
   "cell_type": "code",
   "execution_count": 306,
   "id": "nearby-visitor",
   "metadata": {},
   "outputs": [],
   "source": [
    "silhouette_scores = []\n",
    "for i in range(0,19):\n",
    "    silhouette_scores.append(silhouette_score(tfidf_documents, labels[i], sample_size = 10000))"
   ]
  },
  {
   "cell_type": "code",
   "execution_count": 311,
   "id": "revised-responsibility",
   "metadata": {},
   "outputs": [
    {
     "data": {
      "image/png": "[encoded data removed]",
      "text/plain": [
       "<Figure size 1440x432 with 1 Axes>"
      ]
     },
     "metadata": {
      "needs_background": "light"
     },
     "output_type": "display_data"
    }
   ],
   "source": [
    "plt.figure(figsize = (20,6))\n",
    "plt.bar(range(2,21), silhouette_scores, align='center', alpha=0.5)\n",
    "plt.xticks(x)\n",
    "plt.ylabel('Average Silhouette Coefficient')\n",
    "plt.xlabel('Number of Clusters')\n",
    "plt.title('K-Means Silhouette Scores with TF-IDF Vectorized Text')\n",
    "plt.show();"
   ]
  },
  {
   "cell_type": "code",
   "execution_count": null,
   "id": "qualified-moore",
   "metadata": {},
   "outputs": [],
   "source": []
  }
 ],
 "metadata": {
  "kernelspec": {
   "display_name": "Python 3",
   "language": "python",
   "name": "python3"
  },
  "language_info": {
   "codemirror_mode": {
    "name": "ipython",
    "version": 3
   },
   "file_extension": ".py",
   "mimetype": "text/x-python",
   "name": "python",
   "nbconvert_exporter": "python",
   "pygments_lexer": "ipython3",
   "version": "3.9.0"
  }
 },
 "nbformat": 4,
 "nbformat_minor": 5
}
